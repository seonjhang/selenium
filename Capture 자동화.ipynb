{
 "cells": [
  {
   "cell_type": "markdown",
   "id": "39219e78",
   "metadata": {},
   "source": [
    "# Capture 자동화"
   ]
  },
  {
   "cell_type": "code",
   "execution_count": null,
   "id": "6e3f038f",
   "metadata": {},
   "outputs": [
    {
     "name": "stdout",
     "output_type": "stream",
     "text": [
      "***** iq_ar_pcd_external_240610.png completed *****\n",
      "***** za_pcd_external_240610.png completed *****\n",
      "***** bd_pcd_external_240610.png completed *****\n",
      "***** in_pcd_internal_240610.png completed *****\n",
      "***** es_pcd_internal_240610.png completed *****\n",
      "***** tr_pcd_internal_240610_p1 completed *****\n",
      "***** tr_pcd_internal_240610_p2 completed *****\n",
      "***** vn_pcd_external_240610.png completed *****\n",
      "***** mx_pcd_external_240610.png completed *****\n",
      "***** latin_pcd_external_240610.png completed *****\n",
      "***** br_pcd_internal_240610.png completed *****\n",
      "***** de_pcd_internal_240610.png completed *****\n",
      "***** fr_pcd_internal_240610.png completed *****\n"
     ]
    }
   ],
   "source": [
    "import pandas as pd\n",
    "from selenium import webdriver\n",
    "from selenium.webdriver.chrome.options import Options\n",
    "from selenium.webdriver.common.by import By\n",
    "from selenium.webdriver.support.ui import WebDriverWait\n",
    "from selenium.webdriver.support import expected_conditions as EC\n",
    "import time\n",
    "import datetime\n",
    "\n",
    "nowDate = datetime.datetime.now().strftime('%y%m%d')\n",
    "\n",
    "def full_page_screenshot(url, output_path):\n",
    "    chrome_options = Options()\n",
    "    chrome_options.add_argument('--headless')\n",
    "    driver = webdriver.Chrome(options=chrome_options)\n",
    "\n",
    "    driver.set_window_size(1920, 1080)\n",
    "    driver.get(url)\n",
    "\n",
    "    try:\n",
    "        cookie_button = WebDriverWait(driver, 10).until(\n",
    "            EC.element_to_be_clickable((By.XPATH, '//*[@id=\"truste-consent-button\"]'))\n",
    "        )\n",
    "        cookie_button.click()\n",
    "    except:\n",
    "        pass\n",
    "\n",
    "    time.sleep(5)\n",
    "\n",
    "    total_height = driver.execute_script(\"return document.body.scrollHeight\")\n",
    "    total_width = driver.execute_script(\"return document.body.scrollWidth\")\n",
    "\n",
    "    if 'sec' in url:\n",
    "        if total_height < 10000:\n",
    "            total_height += 3000\n",
    "        else:\n",
    "            total_height += 4000\n",
    "\n",
    "    if total_height > 9000:\n",
    "        capture_height = 9000\n",
    "        \n",
    "        start_y = 0\n",
    "        end_y = capture_height\n",
    "        driver.set_window_size(total_width, end_y)\n",
    "        time.sleep(2)\n",
    "        driver.save_screenshot(f\"{data.iloc[i,0]}_{data.iloc[i,2]}_{nowDate}_p1.png\")\n",
    "        print(f\"***** {data.iloc[i,0]}_{data.iloc[i,2]}_{nowDate}_p1 completed *****\")\n",
    "        \n",
    "        start_y = capture_height\n",
    "        end_y = total_height\n",
    "        driver.set_window_size(total_width, end_y)\n",
    "        time.sleep(2)\n",
    "        driver.execute_script(f\"window.scrollTo(0, {start_y});\")\n",
    "        time.sleep(2)\n",
    "        driver.save_screenshot(f\"{data.iloc[i,0]}_{data.iloc[i,2]}_{nowDate}_p2.png\")\n",
    "        print(f\"***** {data.iloc[i,0]}_{data.iloc[i,2]}_{nowDate}_p2 completed *****\")\n",
    "    else:\n",
    "        driver.set_window_size(total_width, total_height)\n",
    "        time.sleep(2)\n",
    "        driver.save_screenshot(output_path)\n",
    "        print(f\"***** {output_path} completed *****\")\n",
    "\n",
    "    driver.quit()\n",
    "\n",
    "data = pd.read_csv(\"site_url.csv\")\n",
    "\n",
    "for i in range(len(data)):\n",
    "    url = data.iloc[i, 1]\n",
    "    extra = data.iloc[i,2]\n",
    "    output_path = f\"{data.iloc[i,0]}_{data.iloc[i,2]}_{nowDate}.png\" \n",
    "    full_page_screenshot(url, output_path)"
   ]
  }
 ],
 "metadata": {
  "kernelspec": {
   "display_name": "Python 3 (ipykernel)",
   "language": "python",
   "name": "python3"
  },
  "language_info": {
   "codemirror_mode": {
    "name": "ipython",
    "version": 3
   },
   "file_extension": ".py",
   "mimetype": "text/x-python",
   "name": "python",
   "nbconvert_exporter": "python",
   "pygments_lexer": "ipython3",
   "version": "3.12.7"
  },
  "toc": {
   "base_numbering": 1,
   "nav_menu": {},
   "number_sections": true,
   "sideBar": true,
   "skip_h1_title": false,
   "title_cell": "Table of Contents",
   "title_sidebar": "Contents",
   "toc_cell": false,
   "toc_position": {},
   "toc_section_display": true,
   "toc_window_display": false
  }
 },
 "nbformat": 4,
 "nbformat_minor": 5
}
